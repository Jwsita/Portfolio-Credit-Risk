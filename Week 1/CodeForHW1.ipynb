{
 "cells": [
  {
   "cell_type": "code",
   "execution_count": 1,
   "metadata": {},
   "outputs": [],
   "source": [
    "from scipy.optimize import fsolve\n",
    "from scipy.stats import norm, multivariate_normal\n",
    "import numpy as np"
   ]
  },
  {
   "attachments": {},
   "cell_type": "markdown",
   "metadata": {},
   "source": [
    "# Q1"
   ]
  },
  {
   "cell_type": "code",
   "execution_count": 32,
   "metadata": {},
   "outputs": [],
   "source": [
    "PD1 = 0.1\n",
    "PD2 = 0.2\n",
    "PD3 = 0.3\n",
    "PDJ = 0.06"
   ]
  },
  {
   "attachments": {},
   "cell_type": "markdown",
   "metadata": {},
   "source": [
    "### Q1-1 Rho1,2"
   ]
  },
  {
   "cell_type": "code",
   "execution_count": 80,
   "metadata": {},
   "outputs": [
    {
     "name": "stdout",
     "output_type": "stream",
     "text": [
      "[0.60256967]\n"
     ]
    }
   ],
   "source": [
    "def f(x):\n",
    "    inv_pd1 = norm.ppf(PD1)\n",
    "    inv_pd2 = norm.ppf(PD2)\n",
    "    y = multivariate_normal(mean=[0, 0], cov=[[1, x], [x, 1]]).cdf([inv_pd2, inv_pd1]) - PDJ\n",
    "    return y\n",
    "\n",
    "x = fsolve(f, 0)\n",
    "print(x)"
   ]
  },
  {
   "attachments": {},
   "cell_type": "markdown",
   "metadata": {},
   "source": [
    "### Q1-2 Rho1,3"
   ]
  },
  {
   "cell_type": "code",
   "execution_count": 16,
   "metadata": {},
   "outputs": [
    {
     "name": "stdout",
     "output_type": "stream",
     "text": [
      "[0.43224727]\n"
     ]
    }
   ],
   "source": [
    "def f(x):\n",
    "    inv_pd1 = norm.ppf(PD1)\n",
    "    inv_pd2 = norm.ppf(PD3)\n",
    "    y = multivariate_normal(mean=[0, 0], cov=[[1, x], [x, 1]]).cdf([inv_pd2, inv_pd1]) - PDJ\n",
    "    return y\n",
    "\n",
    "x = fsolve(f, 0)\n",
    "print(x)"
   ]
  },
  {
   "attachments": {},
   "cell_type": "markdown",
   "metadata": {},
   "source": [
    "### Q1-3 Rho2,3"
   ]
  },
  {
   "cell_type": "code",
   "execution_count": 15,
   "metadata": {},
   "outputs": [
    {
     "name": "stdout",
     "output_type": "stream",
     "text": [
      "[0.]\n"
     ]
    }
   ],
   "source": [
    "def f(x):\n",
    "    inv_pd1 = norm.ppf(PD2)\n",
    "    inv_pd2 = norm.ppf(PD3)\n",
    "    y = multivariate_normal(mean=[0, 0], cov=[[1, x], [x, 1]]).cdf([inv_pd2, inv_pd1]) - PDJ\n",
    "    return y\n",
    "\n",
    "x = fsolve(f, 0)\n",
    "print(x)"
   ]
  },
  {
   "attachments": {},
   "cell_type": "markdown",
   "metadata": {},
   "source": [
    "# Q2"
   ]
  },
  {
   "cell_type": "code",
   "execution_count": 34,
   "metadata": {},
   "outputs": [],
   "source": [
    "rho12 = 0.4\n",
    "rho13 = 0.5\n",
    "rho23 = 0.6\n",
    "PD1 = 0.1\n",
    "PD2 = 0.1\n",
    "PD3 = 0.1"
   ]
  },
  {
   "attachments": {},
   "cell_type": "markdown",
   "metadata": {},
   "source": [
    "### Q2-1 PDJ12"
   ]
  },
  {
   "cell_type": "code",
   "execution_count": 35,
   "metadata": {},
   "outputs": [
    {
     "name": "stdout",
     "output_type": "stream",
     "text": [
      "[0.02665351]\n"
     ]
    }
   ],
   "source": [
    "def f(x):\n",
    "    inv_pd1 = norm.ppf(PD1)\n",
    "    inv_pd2 = norm.ppf(PD2)\n",
    "    y = multivariate_normal(mean=[0, 0], cov=[[1, rho12], [rho12, 1]]).cdf([inv_pd2, inv_pd1]) - x\n",
    "    return y\n",
    "\n",
    "x = fsolve(f, 0)\n",
    "print(x)"
   ]
  },
  {
   "attachments": {},
   "cell_type": "markdown",
   "metadata": {},
   "source": [
    "### Q2-2 PDJ13"
   ]
  },
  {
   "cell_type": "code",
   "execution_count": 20,
   "metadata": {},
   "outputs": [
    {
     "name": "stdout",
     "output_type": "stream",
     "text": [
      "[0.03240152]\n"
     ]
    }
   ],
   "source": [
    "def f(x):\n",
    "    inv_pd1 = norm.ppf(PD1)\n",
    "    inv_pd2 = norm.ppf(PD3)\n",
    "    y = multivariate_normal(mean=[0, 0], cov=[[1, rho13], [rho13, 1]]).cdf([inv_pd2, inv_pd1]) - x\n",
    "    return y\n",
    "\n",
    "x = fsolve(f, 0)\n",
    "print(x)"
   ]
  },
  {
   "attachments": {},
   "cell_type": "markdown",
   "metadata": {},
   "source": [
    "### Q2-3 PDJ23"
   ]
  },
  {
   "cell_type": "code",
   "execution_count": 21,
   "metadata": {},
   "outputs": [
    {
     "name": "stdout",
     "output_type": "stream",
     "text": [
      "[0.03901747]\n"
     ]
    }
   ],
   "source": [
    "def f(x):\n",
    "    inv_pd1 = norm.ppf(PD2)\n",
    "    inv_pd2 = norm.ppf(PD3)\n",
    "    y = multivariate_normal(mean=[0, 0], cov=[[1, rho23], [rho23, 1]]).cdf([inv_pd2, inv_pd1]) - x\n",
    "    return y\n",
    "\n",
    "x = fsolve(f, 0)\n",
    "print(x)"
   ]
  },
  {
   "attachments": {},
   "cell_type": "markdown",
   "metadata": {},
   "source": [
    "### Q2-4 PDJ123"
   ]
  },
  {
   "cell_type": "code",
   "execution_count": 22,
   "metadata": {},
   "outputs": [
    {
     "name": "stdout",
     "output_type": "stream",
     "text": [
      "[0.015533]\n"
     ]
    }
   ],
   "source": [
    "def f(x):\n",
    "    inv_pd1 = norm.ppf(PD1)\n",
    "    inv_pd2 = norm.ppf(PD2)\n",
    "    inv_pd3 = norm.ppf(PD3)\n",
    "    y = multivariate_normal(mean=[0, 0, 0], cov=[[1, rho12, rho13], [rho12, 1, rho23], [rho13, rho23, 1]]).cdf([inv_pd2, inv_pd1, inv_pd3]) - x\n",
    "    return y\n",
    "\n",
    "x = fsolve(f, 0)\n",
    "print(x)"
   ]
  },
  {
   "attachments": {},
   "cell_type": "markdown",
   "metadata": {},
   "source": [
    "# Q3"
   ]
  },
  {
   "cell_type": "code",
   "execution_count": 56,
   "metadata": {},
   "outputs": [],
   "source": [
    "PA1 = 1\n",
    "PA2 = 1\n",
    "PB1 = 0.5\n",
    "PB2 = 0.7\n",
    "PD1 = 0.1\n",
    "PD2 = 0.2"
   ]
  },
  {
   "cell_type": "code",
   "execution_count": 57,
   "metadata": {},
   "outputs": [],
   "source": [
    "inv_pd1 = norm.ppf(PD1)\n",
    "inv_pd2 = norm.ppf(PD2)\n",
    "inv_pa1 = norm.ppf(PA1)\n",
    "inv_pa2 = norm.ppf(PA2)\n",
    "inv_pb1 = norm.ppf(PB1)\n",
    "inv_pb2 = norm.ppf(PB2)"
   ]
  },
  {
   "cell_type": "code",
   "execution_count": 59,
   "metadata": {},
   "outputs": [
    {
     "data": {
      "text/plain": [
       "{'DD or worse': array([0.04399001]),\n",
       " 'DB or worse': array([0.09062698]),\n",
       " 'DA or worse': array([0.1]),\n",
       " 'BD or worse': array([0.14499531]),\n",
       " 'BB or worse': array([0.40660958]),\n",
       " 'BA or worse': array([0.5]),\n",
       " 'AD or worse': array([0.2]),\n",
       " 'AB or worse': array([0.7]),\n",
       " 'AA or worse': array([1.])}"
      ]
     },
     "execution_count": 59,
     "metadata": {},
     "output_type": "execute_result"
    }
   ],
   "source": [
    "prob_matrix = {'DD or worse': [inv_pd1, inv_pd2], 'DB or worse': [inv_pd1,inv_pb2], 'DA or worse': [inv_pd1, inv_pa2], 'BD or worse': [inv_pb1, inv_pd2], 'BB or worse': [inv_pb1,inv_pb2], 'BA or worse': [inv_pb1, inv_pa2], 'AD or worse': [inv_pa1, inv_pd2], 'AB or worse': [inv_pa1, inv_pb2],'AA or worse': [inv_pa1,inv_pa2] }\n",
    "\n",
    "def f(x, prob):\n",
    "    y = multivariate_normal(mean=[0, 0], cov=[[1, 0.4], [0.4, 1]]).cdf(prob) - x\n",
    "    return y\n",
    "\n",
    "prob_dis = {}\n",
    "for key, item in prob_matrix.items():\n",
    "    x = fsolve(f, 0, args=(item,))\n",
    "    prob_dis[key] = x\n",
    "\n",
    "prob_dis\n"
   ]
  },
  {
   "cell_type": "code",
   "execution_count": 62,
   "metadata": {},
   "outputs": [
    {
     "data": {
      "text/plain": [
       "array([0.04399001])"
      ]
     },
     "execution_count": 62,
     "metadata": {},
     "output_type": "execute_result"
    }
   ],
   "source": [
    "PDD = prob_dis['DD or worse']\n",
    "PDD"
   ]
  },
  {
   "cell_type": "code",
   "execution_count": 63,
   "metadata": {},
   "outputs": [
    {
     "data": {
      "text/plain": [
       "array([0.04663697])"
      ]
     },
     "execution_count": 63,
     "metadata": {},
     "output_type": "execute_result"
    }
   ],
   "source": [
    "PDB = prob_dis['DB or worse'] - PDD\n",
    "PDB"
   ]
  },
  {
   "cell_type": "code",
   "execution_count": 69,
   "metadata": {},
   "outputs": [
    {
     "data": {
      "text/plain": [
       "array([0.00937302])"
      ]
     },
     "execution_count": 69,
     "metadata": {},
     "output_type": "execute_result"
    }
   ],
   "source": [
    "PDA = prob_dis['DA or worse'] - PDB - PDD\n",
    "PDA"
   ]
  },
  {
   "cell_type": "code",
   "execution_count": 70,
   "metadata": {},
   "outputs": [
    {
     "data": {
      "text/plain": [
       "array([0.1010053])"
      ]
     },
     "execution_count": 70,
     "metadata": {},
     "output_type": "execute_result"
    }
   ],
   "source": [
    "PBD = prob_dis['BD or worse'] - PDD\n",
    "PBD"
   ]
  },
  {
   "cell_type": "code",
   "execution_count": 72,
   "metadata": {},
   "outputs": [
    {
     "data": {
      "text/plain": [
       "array([0.2149773])"
      ]
     },
     "execution_count": 72,
     "metadata": {},
     "output_type": "execute_result"
    }
   ],
   "source": [
    "PBB = prob_dis['BB or worse'] - PDB - PBD - PDD\n",
    "PBB"
   ]
  },
  {
   "cell_type": "code",
   "execution_count": 73,
   "metadata": {},
   "outputs": [
    {
     "data": {
      "text/plain": [
       "array([0.0840174])"
      ]
     },
     "execution_count": 73,
     "metadata": {},
     "output_type": "execute_result"
    }
   ],
   "source": [
    "PBA = 0.4 - PBB - PBD\n",
    "PBA"
   ]
  },
  {
   "cell_type": "code",
   "execution_count": 74,
   "metadata": {},
   "outputs": [
    {
     "data": {
      "text/plain": [
       "array([0.05500469])"
      ]
     },
     "execution_count": 74,
     "metadata": {},
     "output_type": "execute_result"
    }
   ],
   "source": [
    "PAD = 0.2 - PDD - PBD\n",
    "PAD"
   ]
  },
  {
   "cell_type": "code",
   "execution_count": 76,
   "metadata": {},
   "outputs": [
    {
     "data": {
      "text/plain": [
       "array([0.23838573])"
      ]
     },
     "execution_count": 76,
     "metadata": {},
     "output_type": "execute_result"
    }
   ],
   "source": [
    "PAB = 0.5 - PDB - PBB\n",
    "PAB"
   ]
  },
  {
   "cell_type": "code",
   "execution_count": 78,
   "metadata": {},
   "outputs": [
    {
     "data": {
      "text/plain": [
       "array([0.20660958])"
      ]
     },
     "execution_count": 78,
     "metadata": {},
     "output_type": "execute_result"
    }
   ],
   "source": [
    "PAA = 0.3 - PDA - PBA\n",
    "PAA"
   ]
  },
  {
   "cell_type": "markdown",
   "metadata": {},
   "source": [
    "# Q4"
   ]
  },
  {
   "cell_type": "code",
   "execution_count": 83,
   "metadata": {},
   "outputs": [],
   "source": [
    "PD1 = 0.01\n",
    "PD2 = 0.02\n",
    "PD3 = 0.03\n",
    "PD4 = 0.04\n",
    "\n",
    "PDJ = 0.001"
   ]
  },
  {
   "attachments": {},
   "cell_type": "markdown",
   "metadata": {},
   "source": [
    "### Q4-1 rho12"
   ]
  },
  {
   "cell_type": "code",
   "execution_count": 84,
   "metadata": {},
   "outputs": [
    {
     "name": "stdout",
     "output_type": "stream",
     "text": [
      "[0.31118614]\n"
     ]
    }
   ],
   "source": [
    "def f(x):\n",
    "    inv_pd1 = norm.ppf(PD1)\n",
    "    inv_pd2 = norm.ppf(PD2)\n",
    "    y = multivariate_normal(mean=[0, 0], cov=[[1, x], [x, 1]]).cdf([inv_pd2, inv_pd1]) - PDJ\n",
    "    return y\n",
    "\n",
    "x = fsolve(f, 0)\n",
    "print(x)"
   ]
  },
  {
   "attachments": {},
   "cell_type": "markdown",
   "metadata": {},
   "source": [
    "### Q4-2 rho13"
   ]
  },
  {
   "cell_type": "code",
   "execution_count": 85,
   "metadata": {},
   "outputs": [
    {
     "name": "stdout",
     "output_type": "stream",
     "text": [
      "[0.23718941]\n"
     ]
    }
   ],
   "source": [
    "def f(x):\n",
    "    inv_pd1 = norm.ppf(PD1)\n",
    "    inv_pd2 = norm.ppf(PD3)\n",
    "    y = multivariate_normal(mean=[0, 0], cov=[[1, x], [x, 1]]).cdf([inv_pd2, inv_pd1]) - PDJ\n",
    "    return y\n",
    "\n",
    "x = fsolve(f, 0)\n",
    "print(x)"
   ]
  },
  {
   "attachments": {},
   "cell_type": "markdown",
   "metadata": {},
   "source": [
    "### Q4-3 rho14"
   ]
  },
  {
   "cell_type": "code",
   "execution_count": 86,
   "metadata": {},
   "outputs": [
    {
     "name": "stdout",
     "output_type": "stream",
     "text": [
      "[0.18336735]\n"
     ]
    }
   ],
   "source": [
    "def f(x):\n",
    "    inv_pd1 = norm.ppf(PD1)\n",
    "    inv_pd2 = norm.ppf(PD4)\n",
    "    y = multivariate_normal(mean=[0, 0], cov=[[1, x], [x, 1]]).cdf([inv_pd2, inv_pd1]) - PDJ\n",
    "    return y\n",
    "\n",
    "x = fsolve(f, 0)\n",
    "print(x)"
   ]
  },
  {
   "attachments": {},
   "cell_type": "markdown",
   "metadata": {},
   "source": [
    "### Q4-4 rho23"
   ]
  },
  {
   "cell_type": "code",
   "execution_count": 87,
   "metadata": {},
   "outputs": [
    {
     "name": "stdout",
     "output_type": "stream",
     "text": [
      "[0.10050984]\n"
     ]
    }
   ],
   "source": [
    "def f(x):\n",
    "    inv_pd1 = norm.ppf(PD2)\n",
    "    inv_pd2 = norm.ppf(PD3)\n",
    "    y = multivariate_normal(mean=[0, 0], cov=[[1, x], [x, 1]]).cdf([inv_pd2, inv_pd1]) - PDJ\n",
    "    return y\n",
    "\n",
    "x = fsolve(f, 0)\n",
    "print(x)"
   ]
  },
  {
   "attachments": {},
   "cell_type": "markdown",
   "metadata": {},
   "source": [
    "### Q4-5 rho24"
   ]
  },
  {
   "cell_type": "code",
   "execution_count": 88,
   "metadata": {},
   "outputs": [
    {
     "name": "stdout",
     "output_type": "stream",
     "text": [
      "[0.04430853]\n"
     ]
    }
   ],
   "source": [
    "def f(x):\n",
    "    inv_pd1 = norm.ppf(PD2)\n",
    "    inv_pd2 = norm.ppf(PD4)\n",
    "    y = multivariate_normal(mean=[0, 0], cov=[[1, x], [x, 1]]).cdf([inv_pd2, inv_pd1]) - PDJ\n",
    "    return y\n",
    "\n",
    "x = fsolve(f, 0)\n",
    "print(x)"
   ]
  },
  {
   "attachments": {},
   "cell_type": "markdown",
   "metadata": {},
   "source": [
    "### Q4-6 rho34"
   ]
  },
  {
   "cell_type": "code",
   "execution_count": 89,
   "metadata": {},
   "outputs": [
    {
     "name": "stdout",
     "output_type": "stream",
     "text": [
      "[-0.03622908]\n"
     ]
    }
   ],
   "source": [
    "def f(x):\n",
    "    inv_pd1 = norm.ppf(PD3)\n",
    "    inv_pd2 = norm.ppf(PD4)\n",
    "    y = multivariate_normal(mean=[0, 0], cov=[[1, x], [x, 1]]).cdf([inv_pd2, inv_pd1]) - PDJ\n",
    "    return y\n",
    "\n",
    "x = fsolve(f, 0)\n",
    "print(x)"
   ]
  },
  {
   "attachments": {},
   "cell_type": "markdown",
   "metadata": {},
   "source": [
    "### Q4-7 corr and eigvals"
   ]
  },
  {
   "cell_type": "code",
   "execution_count": 93,
   "metadata": {},
   "outputs": [
    {
     "data": {
      "text/plain": [
       "array([1.4800558 , 0.60997814, 1.03560661, 0.87435946])"
      ]
     },
     "execution_count": 93,
     "metadata": {},
     "output_type": "execute_result"
    }
   ],
   "source": [
    "corr = np.array([[1, 0.311, 0.237, 0.183], [0.311, 1, 0.101, 0.044], [0.237, 0.101, 1, -0.036], [0.183, 0.044, -0.036, 1]])\n",
    "np.linalg.eigvals(corr)"
   ]
  }
 ],
 "metadata": {
  "kernelspec": {
   "display_name": "myenv",
   "language": "python",
   "name": "python3"
  },
  "language_info": {
   "codemirror_mode": {
    "name": "ipython",
    "version": 3
   },
   "file_extension": ".py",
   "mimetype": "text/x-python",
   "name": "python",
   "nbconvert_exporter": "python",
   "pygments_lexer": "ipython3",
   "version": "3.9.6"
  },
  "orig_nbformat": 4
 },
 "nbformat": 4,
 "nbformat_minor": 2
}

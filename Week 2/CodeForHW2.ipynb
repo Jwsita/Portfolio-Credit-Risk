{
 "cells": [
  {
   "attachments": {},
   "cell_type": "markdown",
   "metadata": {},
   "source": [
    "# HW2 - Jingwen Li"
   ]
  },
  {
   "cell_type": "code",
   "execution_count": 277,
   "metadata": {},
   "outputs": [],
   "source": [
    "from scipy.optimize import fsolve, root_scalar\n",
    "from scipy.stats import norm, multivariate_normal, rv_continuous\n",
    "import matplotlib.pyplot as plt\n",
    "import numpy as np\n",
    "import pandas as pd\n",
    "from scipy.integrate import quad\n",
    "import warnings\n",
    "warnings.filterwarnings(\"ignore\")"
   ]
  },
  {
   "attachments": {},
   "cell_type": "markdown",
   "metadata": {},
   "source": [
    "# Q1"
   ]
  },
  {
   "cell_type": "code",
   "execution_count": 278,
   "metadata": {},
   "outputs": [],
   "source": [
    "PD1 = 0.5\n",
    "PD2 = 0.4\n",
    "PD3 = 0.3\n",
    "PD4 = 0.2\n",
    "PD5 = 0.1"
   ]
  },
  {
   "cell_type": "code",
   "execution_count": 279,
   "metadata": {},
   "outputs": [],
   "source": [
    "def simulation(corr, size):\n",
    "    sample = np.random.multivariate_normal(mean = [0,0,0,0,0],cov=corr, size = size)\n",
    "    df_simulation = pd.DataFrame(sample, columns=['Firm 1', 'Firm 2', 'Firm 3', 'Firm 4', 'Firm 5'])\n",
    "    df_simulation['Firm 1'] = (df_simulation['Firm 1'] < norm.ppf(PD1)).astype(int)\n",
    "    df_simulation['Firm 2'] = (df_simulation['Firm 2'] < norm.ppf(PD2)).astype(int)\n",
    "    df_simulation['Firm 3'] = (df_simulation['Firm 3'] < norm.ppf(PD3)).astype(int)\n",
    "    df_simulation['Firm 4'] = (df_simulation['Firm 4'] < norm.ppf(PD4)).astype(int)\n",
    "    df_simulation['Firm 5'] = (df_simulation['Firm 5'] < norm.ppf(PD5)).astype(int)\n",
    "    df_simulation['Defaults'] = df_simulation.sum(axis=1)\n",
    "    mean = df_simulation['Defaults'].mean()\n",
    "    std = df_simulation['Defaults'].std()\n",
    "    \n",
    "    return mean, std, df_simulation"
   ]
  },
  {
   "attachments": {},
   "cell_type": "markdown",
   "metadata": {},
   "source": [
    "### Part 1"
   ]
  },
  {
   "cell_type": "code",
   "execution_count": 280,
   "metadata": {},
   "outputs": [],
   "source": [
    "corr_matrix_1 = [[1, 0.05, 0.1, 0.15, 0.2],[0.05, 1, 0.25, 0.30, 0.35], [0.10, 0.25, 1, 0.40, 0.45],[0.15, 0.30, 0.40, 1, 0.50],[0.20, 0.35, 0.45, 0.50,1]]"
   ]
  },
  {
   "cell_type": "code",
   "execution_count": 281,
   "metadata": {},
   "outputs": [
    {
     "name": "stdout",
     "output_type": "stream",
     "text": [
      "mean is 1.5\n",
      "std is 1.2\n"
     ]
    }
   ],
   "source": [
    "mean, std, df = simulation(corr_matrix_1, 10000)\n",
    "print(f'mean is {mean.round(1)}')\n",
    "print(f'std is {std.round(1)}')"
   ]
  },
  {
   "attachments": {},
   "cell_type": "markdown",
   "metadata": {},
   "source": [
    "### Part 2"
   ]
  },
  {
   "cell_type": "code",
   "execution_count": 282,
   "metadata": {},
   "outputs": [],
   "source": [
    "corr_matrix_2 = [[1, 0, 0, 0, 0],[0, 1, 0, 0, 0], [0, 0, 1, 0, 0],[0, 0, 0, 1, 0],[0, 0, 0, 0,1]]"
   ]
  },
  {
   "cell_type": "code",
   "execution_count": 283,
   "metadata": {},
   "outputs": [
    {
     "name": "stdout",
     "output_type": "stream",
     "text": [
      "mean is 1.5\n",
      "std is 0.97\n"
     ]
    }
   ],
   "source": [
    "mean, std, df = simulation(corr_matrix_2, 10000)\n",
    "print(f'mean is {mean.round(1)}')\n",
    "print(f'std is {std.round(2)}')"
   ]
  },
  {
   "attachments": {},
   "cell_type": "markdown",
   "metadata": {},
   "source": [
    "# Q2"
   ]
  },
  {
   "cell_type": "code",
   "execution_count": 284,
   "metadata": {},
   "outputs": [],
   "source": [
    "l = []\n",
    "for i in range(1000):\n",
    "    rho = np.random.uniform(0, 0.95)\n",
    "    corr_matrix = [[1, rho, rho, rho, rho],[rho, 1, rho, rho, rho], [rho, rho, 1, rho, rho],[rho, rho, rho, 1, rho],[rho, rho, rho, rho,1]]\n",
    "    mean, std, df = simulation(corr_matrix, 10000)\n",
    "    l.append([rho, std])\n",
    "df = pd.DataFrame(l, columns=['rho', 'std'])"
   ]
  },
  {
   "cell_type": "code",
   "execution_count": 285,
   "metadata": {},
   "outputs": [
    {
     "data": {
      "image/png": "[encoded data removed]",
      "text/plain": [
       "<Figure size 640x480 with 1 Axes>"
      ]
     },
     "metadata": {},
     "output_type": "display_data"
    }
   ],
   "source": [
    "# Create a scatter plot of x vs. y\n",
    "plt.scatter(df['rho'], df['std'], s=1)\n",
    "\n",
    "# Set the axis labels and plot title\n",
    "plt.xlabel('rho')\n",
    "plt.ylabel('std')\n",
    "plt.title('Scatter plot of off-diagonal rho vs. std')\n",
    "\n",
    "# Display the plot\n",
    "plt.show()"
   ]
  },
  {
   "attachments": {},
   "cell_type": "markdown",
   "metadata": {},
   "source": [
    "# Q3"
   ]
  },
  {
   "cell_type": "code",
   "execution_count": 306,
   "metadata": {},
   "outputs": [],
   "source": [
    "PD1 = 0.1\n",
    "PD2 = 0.2\n",
    "PD3 = 0.3\n",
    "PD4 = 0.4\n",
    "PD5 = 0.5"
   ]
  },
  {
   "attachments": {},
   "cell_type": "markdown",
   "metadata": {},
   "source": [
    "### Q3-1: "
   ]
  },
  {
   "cell_type": "code",
   "execution_count": 307,
   "metadata": {},
   "outputs": [],
   "source": [
    "corr_matrix = [[1, 0.15, 0.2, 0.25, 0.3],[0.15, 1, 0.25, 0.3, 0.35],[0.2, 0.25, 1, 0.35, 0.4],[0.25, 0.3, 0.35, 1, 0.45],[0.3, 0.35, 0.4, 0.45, 1]]"
   ]
  },
  {
   "cell_type": "code",
   "execution_count": 308,
   "metadata": {},
   "outputs": [],
   "source": [
    "mean, std, df = simulation(corr_matrix, 10000)"
   ]
  },
  {
   "cell_type": "code",
   "execution_count": 309,
   "metadata": {},
   "outputs": [],
   "source": [
    "df['PDJ45'] = df['Firm 4'] + df['Firm 5'] == 2"
   ]
  },
  {
   "cell_type": "code",
   "execution_count": 310,
   "metadata": {},
   "outputs": [
    {
     "data": {
      "text/html": [
       "<div>\n",
       "<style scoped>\n",
       "    .dataframe tbody tr th:only-of-type {\n",
       "        vertical-align: middle;\n",
       "    }\n",
       "\n",
       "    .dataframe tbody tr th {\n",
       "        vertical-align: top;\n",
       "    }\n",
       "\n",
       "    .dataframe thead th {\n",
       "        text-align: right;\n",
       "    }\n",
       "</style>\n",
       "<table border=\"1\" class=\"dataframe\">\n",
       "  <thead>\n",
       "    <tr style=\"text-align: right;\">\n",
       "      <th></th>\n",
       "      <th>Firm 1</th>\n",
       "      <th>Firm 2</th>\n",
       "      <th>Firm 3</th>\n",
       "      <th>Firm 4</th>\n",
       "      <th>Firm 5</th>\n",
       "      <th>Defaults</th>\n",
       "      <th>PDJ45</th>\n",
       "    </tr>\n",
       "  </thead>\n",
       "  <tbody>\n",
       "    <tr>\n",
       "      <th>0</th>\n",
       "      <td>0</td>\n",
       "      <td>0</td>\n",
       "      <td>0</td>\n",
       "      <td>0</td>\n",
       "      <td>1</td>\n",
       "      <td>1</td>\n",
       "      <td>False</td>\n",
       "    </tr>\n",
       "    <tr>\n",
       "      <th>1</th>\n",
       "      <td>0</td>\n",
       "      <td>0</td>\n",
       "      <td>1</td>\n",
       "      <td>1</td>\n",
       "      <td>1</td>\n",
       "      <td>3</td>\n",
       "      <td>True</td>\n",
       "    </tr>\n",
       "    <tr>\n",
       "      <th>2</th>\n",
       "      <td>0</td>\n",
       "      <td>0</td>\n",
       "      <td>0</td>\n",
       "      <td>0</td>\n",
       "      <td>1</td>\n",
       "      <td>1</td>\n",
       "      <td>False</td>\n",
       "    </tr>\n",
       "    <tr>\n",
       "      <th>3</th>\n",
       "      <td>0</td>\n",
       "      <td>0</td>\n",
       "      <td>1</td>\n",
       "      <td>0</td>\n",
       "      <td>0</td>\n",
       "      <td>1</td>\n",
       "      <td>False</td>\n",
       "    </tr>\n",
       "    <tr>\n",
       "      <th>4</th>\n",
       "      <td>0</td>\n",
       "      <td>0</td>\n",
       "      <td>0</td>\n",
       "      <td>0</td>\n",
       "      <td>0</td>\n",
       "      <td>0</td>\n",
       "      <td>False</td>\n",
       "    </tr>\n",
       "    <tr>\n",
       "      <th>...</th>\n",
       "      <td>...</td>\n",
       "      <td>...</td>\n",
       "      <td>...</td>\n",
       "      <td>...</td>\n",
       "      <td>...</td>\n",
       "      <td>...</td>\n",
       "      <td>...</td>\n",
       "    </tr>\n",
       "    <tr>\n",
       "      <th>9995</th>\n",
       "      <td>0</td>\n",
       "      <td>1</td>\n",
       "      <td>0</td>\n",
       "      <td>0</td>\n",
       "      <td>0</td>\n",
       "      <td>1</td>\n",
       "      <td>False</td>\n",
       "    </tr>\n",
       "    <tr>\n",
       "      <th>9996</th>\n",
       "      <td>1</td>\n",
       "      <td>0</td>\n",
       "      <td>0</td>\n",
       "      <td>0</td>\n",
       "      <td>1</td>\n",
       "      <td>2</td>\n",
       "      <td>False</td>\n",
       "    </tr>\n",
       "    <tr>\n",
       "      <th>9997</th>\n",
       "      <td>0</td>\n",
       "      <td>0</td>\n",
       "      <td>0</td>\n",
       "      <td>1</td>\n",
       "      <td>0</td>\n",
       "      <td>1</td>\n",
       "      <td>False</td>\n",
       "    </tr>\n",
       "    <tr>\n",
       "      <th>9998</th>\n",
       "      <td>0</td>\n",
       "      <td>0</td>\n",
       "      <td>0</td>\n",
       "      <td>0</td>\n",
       "      <td>1</td>\n",
       "      <td>1</td>\n",
       "      <td>False</td>\n",
       "    </tr>\n",
       "    <tr>\n",
       "      <th>9999</th>\n",
       "      <td>0</td>\n",
       "      <td>1</td>\n",
       "      <td>0</td>\n",
       "      <td>0</td>\n",
       "      <td>0</td>\n",
       "      <td>1</td>\n",
       "      <td>False</td>\n",
       "    </tr>\n",
       "  </tbody>\n",
       "</table>\n",
       "<p>10000 rows × 7 columns</p>\n",
       "</div>"
      ],
      "text/plain": [
       "      Firm 1  Firm 2  Firm 3  Firm 4  Firm 5  Defaults  PDJ45\n",
       "0          0       0       0       0       1         1  False\n",
       "1          0       0       1       1       1         3   True\n",
       "2          0       0       0       0       1         1  False\n",
       "3          0       0       1       0       0         1  False\n",
       "4          0       0       0       0       0         0  False\n",
       "...      ...     ...     ...     ...     ...       ...    ...\n",
       "9995       0       1       0       0       0         1  False\n",
       "9996       1       0       0       0       1         2  False\n",
       "9997       0       0       0       1       0         1  False\n",
       "9998       0       0       0       0       1         1  False\n",
       "9999       0       1       0       0       0         1  False\n",
       "\n",
       "[10000 rows x 7 columns]"
      ]
     },
     "execution_count": 310,
     "metadata": {},
     "output_type": "execute_result"
    }
   ],
   "source": [
    "df"
   ]
  },
  {
   "cell_type": "code",
   "execution_count": 311,
   "metadata": {},
   "outputs": [
    {
     "name": "stdout",
     "output_type": "stream",
     "text": [
      "Prob[ D4 = 1 and D5 = 1] = 0.27\n"
     ]
    }
   ],
   "source": [
    "PDJ45 = df['PDJ45'].sum()/df.shape[0]\n",
    "print(f'Prob[ D4 = 1 and D5 = 1] = {PDJ45.round(2)}')"
   ]
  },
  {
   "attachments": {},
   "cell_type": "markdown",
   "metadata": {},
   "source": [
    "### Q3-2"
   ]
  },
  {
   "cell_type": "code",
   "execution_count": 312,
   "metadata": {},
   "outputs": [
    {
     "data": {
      "text/html": [
       "<div>\n",
       "<style scoped>\n",
       "    .dataframe tbody tr th:only-of-type {\n",
       "        vertical-align: middle;\n",
       "    }\n",
       "\n",
       "    .dataframe tbody tr th {\n",
       "        vertical-align: top;\n",
       "    }\n",
       "\n",
       "    .dataframe thead th {\n",
       "        text-align: right;\n",
       "    }\n",
       "</style>\n",
       "<table border=\"1\" class=\"dataframe\">\n",
       "  <thead>\n",
       "    <tr style=\"text-align: right;\">\n",
       "      <th></th>\n",
       "      <th>Firm 1</th>\n",
       "      <th>Firm 2</th>\n",
       "      <th>Firm 3</th>\n",
       "      <th>Firm 4</th>\n",
       "      <th>Firm 5</th>\n",
       "      <th>Defaults</th>\n",
       "      <th>PDJ45</th>\n",
       "    </tr>\n",
       "  </thead>\n",
       "  <tbody>\n",
       "    <tr>\n",
       "      <th>1</th>\n",
       "      <td>0</td>\n",
       "      <td>0</td>\n",
       "      <td>1</td>\n",
       "      <td>1</td>\n",
       "      <td>1</td>\n",
       "      <td>3</td>\n",
       "      <td>True</td>\n",
       "    </tr>\n",
       "    <tr>\n",
       "      <th>3</th>\n",
       "      <td>0</td>\n",
       "      <td>0</td>\n",
       "      <td>1</td>\n",
       "      <td>0</td>\n",
       "      <td>0</td>\n",
       "      <td>1</td>\n",
       "      <td>False</td>\n",
       "    </tr>\n",
       "    <tr>\n",
       "      <th>6</th>\n",
       "      <td>0</td>\n",
       "      <td>0</td>\n",
       "      <td>1</td>\n",
       "      <td>1</td>\n",
       "      <td>1</td>\n",
       "      <td>3</td>\n",
       "      <td>True</td>\n",
       "    </tr>\n",
       "    <tr>\n",
       "      <th>9</th>\n",
       "      <td>0</td>\n",
       "      <td>0</td>\n",
       "      <td>1</td>\n",
       "      <td>1</td>\n",
       "      <td>1</td>\n",
       "      <td>3</td>\n",
       "      <td>True</td>\n",
       "    </tr>\n",
       "    <tr>\n",
       "      <th>11</th>\n",
       "      <td>0</td>\n",
       "      <td>0</td>\n",
       "      <td>1</td>\n",
       "      <td>1</td>\n",
       "      <td>1</td>\n",
       "      <td>3</td>\n",
       "      <td>True</td>\n",
       "    </tr>\n",
       "    <tr>\n",
       "      <th>...</th>\n",
       "      <td>...</td>\n",
       "      <td>...</td>\n",
       "      <td>...</td>\n",
       "      <td>...</td>\n",
       "      <td>...</td>\n",
       "      <td>...</td>\n",
       "      <td>...</td>\n",
       "    </tr>\n",
       "    <tr>\n",
       "      <th>9973</th>\n",
       "      <td>1</td>\n",
       "      <td>0</td>\n",
       "      <td>1</td>\n",
       "      <td>1</td>\n",
       "      <td>1</td>\n",
       "      <td>4</td>\n",
       "      <td>True</td>\n",
       "    </tr>\n",
       "    <tr>\n",
       "      <th>9983</th>\n",
       "      <td>0</td>\n",
       "      <td>1</td>\n",
       "      <td>1</td>\n",
       "      <td>1</td>\n",
       "      <td>0</td>\n",
       "      <td>3</td>\n",
       "      <td>False</td>\n",
       "    </tr>\n",
       "    <tr>\n",
       "      <th>9988</th>\n",
       "      <td>0</td>\n",
       "      <td>0</td>\n",
       "      <td>1</td>\n",
       "      <td>1</td>\n",
       "      <td>1</td>\n",
       "      <td>3</td>\n",
       "      <td>True</td>\n",
       "    </tr>\n",
       "    <tr>\n",
       "      <th>9989</th>\n",
       "      <td>0</td>\n",
       "      <td>1</td>\n",
       "      <td>1</td>\n",
       "      <td>0</td>\n",
       "      <td>0</td>\n",
       "      <td>2</td>\n",
       "      <td>False</td>\n",
       "    </tr>\n",
       "    <tr>\n",
       "      <th>9992</th>\n",
       "      <td>0</td>\n",
       "      <td>0</td>\n",
       "      <td>1</td>\n",
       "      <td>0</td>\n",
       "      <td>1</td>\n",
       "      <td>2</td>\n",
       "      <td>False</td>\n",
       "    </tr>\n",
       "  </tbody>\n",
       "</table>\n",
       "<p>3053 rows × 7 columns</p>\n",
       "</div>"
      ],
      "text/plain": [
       "      Firm 1  Firm 2  Firm 3  Firm 4  Firm 5  Defaults  PDJ45\n",
       "1          0       0       1       1       1         3   True\n",
       "3          0       0       1       0       0         1  False\n",
       "6          0       0       1       1       1         3   True\n",
       "9          0       0       1       1       1         3   True\n",
       "11         0       0       1       1       1         3   True\n",
       "...      ...     ...     ...     ...     ...       ...    ...\n",
       "9973       1       0       1       1       1         4   True\n",
       "9983       0       1       1       1       0         3  False\n",
       "9988       0       0       1       1       1         3   True\n",
       "9989       0       1       1       0       0         2  False\n",
       "9992       0       0       1       0       1         2  False\n",
       "\n",
       "[3053 rows x 7 columns]"
      ]
     },
     "execution_count": 312,
     "metadata": {},
     "output_type": "execute_result"
    }
   ],
   "source": [
    "prior = df[df['Firm 3'] == 1]\n",
    "prior"
   ]
  },
  {
   "cell_type": "code",
   "execution_count": 313,
   "metadata": {},
   "outputs": [
    {
     "name": "stdout",
     "output_type": "stream",
     "text": [
      "Prob[ D4 = 1 and D5 = 1 | D3 = 1] = 0.45.\n"
     ]
    }
   ],
   "source": [
    "PDJ45_PD3 = prior['PDJ45'].sum()/prior.shape[0]\n",
    "print(f'Prob[ D4 = 1 and D5 = 1 | D3 = 1] = {PDJ45_PD3.round(2)}.')"
   ]
  },
  {
   "attachments": {},
   "cell_type": "markdown",
   "metadata": {},
   "source": [
    "### Q3-3"
   ]
  },
  {
   "cell_type": "code",
   "execution_count": 314,
   "metadata": {},
   "outputs": [
    {
     "name": "stdout",
     "output_type": "stream",
     "text": [
      "The porfolio expected loss rate is 0.11.\n"
     ]
    }
   ],
   "source": [
    "df['loss'] = df['Firm 1'] * 0.1 * 700 + df['Firm 2'] * 0.2 * 600 + df['Firm 3'] * 0.3 *  500 + df['Firm 4'] * 0.4 * 400 + df['Firm 5'] * 0.5 * 300 + df['Firm 4'] * 0.6 * 200 + df['Firm 5'] * 0.7 * 100\n",
    "loss_rate = df['loss'].mean()/2800\n",
    "print(f'The porfolio expected loss rate is {loss_rate.round(2)}.')"
   ]
  },
  {
   "attachments": {},
   "cell_type": "markdown",
   "metadata": {},
   "source": [
    "### Q3-4"
   ]
  },
  {
   "cell_type": "code",
   "execution_count": 295,
   "metadata": {},
   "outputs": [
    {
     "data": {
      "text/html": [
       "<div>\n",
       "<style scoped>\n",
       "    .dataframe tbody tr th:only-of-type {\n",
       "        vertical-align: middle;\n",
       "    }\n",
       "\n",
       "    .dataframe tbody tr th {\n",
       "        vertical-align: top;\n",
       "    }\n",
       "\n",
       "    .dataframe thead th {\n",
       "        text-align: right;\n",
       "    }\n",
       "</style>\n",
       "<table border=\"1\" class=\"dataframe\">\n",
       "  <thead>\n",
       "    <tr style=\"text-align: right;\">\n",
       "      <th></th>\n",
       "      <th>Firm 1</th>\n",
       "      <th>Firm 2</th>\n",
       "      <th>Firm 3</th>\n",
       "      <th>Firm 4</th>\n",
       "      <th>Firm 5</th>\n",
       "      <th>Defaults</th>\n",
       "      <th>PDJ45</th>\n",
       "      <th>loss</th>\n",
       "    </tr>\n",
       "  </thead>\n",
       "  <tbody>\n",
       "    <tr>\n",
       "      <th>Firm 1</th>\n",
       "      <td>1.000000</td>\n",
       "      <td>0.070582</td>\n",
       "      <td>0.101094</td>\n",
       "      <td>0.119388</td>\n",
       "      <td>0.132546</td>\n",
       "      <td>0.393703</td>\n",
       "      <td>0.155746</td>\n",
       "      <td>0.250867</td>\n",
       "    </tr>\n",
       "    <tr>\n",
       "      <th>Firm 2</th>\n",
       "      <td>0.070582</td>\n",
       "      <td>1.000000</td>\n",
       "      <td>0.149954</td>\n",
       "      <td>0.165914</td>\n",
       "      <td>0.215204</td>\n",
       "      <td>0.533193</td>\n",
       "      <td>0.207166</td>\n",
       "      <td>0.427347</td>\n",
       "    </tr>\n",
       "    <tr>\n",
       "      <th>Firm 3</th>\n",
       "      <td>0.101094</td>\n",
       "      <td>0.149954</td>\n",
       "      <td>1.000000</td>\n",
       "      <td>0.227661</td>\n",
       "      <td>0.252641</td>\n",
       "      <td>0.614190</td>\n",
       "      <td>0.274850</td>\n",
       "      <td>0.549007</td>\n",
       "    </tr>\n",
       "    <tr>\n",
       "      <th>Firm 4</th>\n",
       "      <td>0.119388</td>\n",
       "      <td>0.165914</td>\n",
       "      <td>0.227661</td>\n",
       "      <td>1.000000</td>\n",
       "      <td>0.286233</td>\n",
       "      <td>0.655813</td>\n",
       "      <td>0.737307</td>\n",
       "      <td>0.780168</td>\n",
       "    </tr>\n",
       "    <tr>\n",
       "      <th>Firm 5</th>\n",
       "      <td>0.132546</td>\n",
       "      <td>0.215204</td>\n",
       "      <td>0.252641</td>\n",
       "      <td>0.286233</td>\n",
       "      <td>1.000000</td>\n",
       "      <td>0.688194</td>\n",
       "      <td>0.617367</td>\n",
       "      <td>0.719100</td>\n",
       "    </tr>\n",
       "    <tr>\n",
       "      <th>Defaults</th>\n",
       "      <td>0.393703</td>\n",
       "      <td>0.533193</td>\n",
       "      <td>0.614190</td>\n",
       "      <td>0.655813</td>\n",
       "      <td>0.688194</td>\n",
       "      <td>1.000000</td>\n",
       "      <td>0.722733</td>\n",
       "      <td>0.968843</td>\n",
       "    </tr>\n",
       "    <tr>\n",
       "      <th>PDJ45</th>\n",
       "      <td>0.155746</td>\n",
       "      <td>0.207166</td>\n",
       "      <td>0.274850</td>\n",
       "      <td>0.737307</td>\n",
       "      <td>0.617367</td>\n",
       "      <td>0.722733</td>\n",
       "      <td>1.000000</td>\n",
       "      <td>0.805394</td>\n",
       "    </tr>\n",
       "    <tr>\n",
       "      <th>loss</th>\n",
       "      <td>0.250867</td>\n",
       "      <td>0.427347</td>\n",
       "      <td>0.549007</td>\n",
       "      <td>0.780168</td>\n",
       "      <td>0.719100</td>\n",
       "      <td>0.968843</td>\n",
       "      <td>0.805394</td>\n",
       "      <td>1.000000</td>\n",
       "    </tr>\n",
       "  </tbody>\n",
       "</table>\n",
       "</div>"
      ],
      "text/plain": [
       "            Firm 1    Firm 2    Firm 3    Firm 4    Firm 5  Defaults  \\\n",
       "Firm 1    1.000000  0.070582  0.101094  0.119388  0.132546  0.393703   \n",
       "Firm 2    0.070582  1.000000  0.149954  0.165914  0.215204  0.533193   \n",
       "Firm 3    0.101094  0.149954  1.000000  0.227661  0.252641  0.614190   \n",
       "Firm 4    0.119388  0.165914  0.227661  1.000000  0.286233  0.655813   \n",
       "Firm 5    0.132546  0.215204  0.252641  0.286233  1.000000  0.688194   \n",
       "Defaults  0.393703  0.533193  0.614190  0.655813  0.688194  1.000000   \n",
       "PDJ45     0.155746  0.207166  0.274850  0.737307  0.617367  0.722733   \n",
       "loss      0.250867  0.427347  0.549007  0.780168  0.719100  0.968843   \n",
       "\n",
       "             PDJ45      loss  \n",
       "Firm 1    0.155746  0.250867  \n",
       "Firm 2    0.207166  0.427347  \n",
       "Firm 3    0.274850  0.549007  \n",
       "Firm 4    0.737307  0.780168  \n",
       "Firm 5    0.617367  0.719100  \n",
       "Defaults  0.722733  0.968843  \n",
       "PDJ45     1.000000  0.805394  \n",
       "loss      0.805394  1.000000  "
      ]
     },
     "execution_count": 295,
     "metadata": {},
     "output_type": "execute_result"
    }
   ],
   "source": [
    "df.corr()"
   ]
  },
  {
   "cell_type": "code",
   "execution_count": 296,
   "metadata": {},
   "outputs": [],
   "source": [
    "corr_D3_D4 = df.corr().iloc[2][3]"
   ]
  },
  {
   "cell_type": "code",
   "execution_count": 297,
   "metadata": {},
   "outputs": [
    {
     "name": "stdout",
     "output_type": "stream",
     "text": [
      "The correlation between D3 and D4 is 0.23.\n"
     ]
    }
   ],
   "source": [
    "print(f'The correlation between D3 and D4 is {corr_D3_D4.round(2)}.')"
   ]
  },
  {
   "attachments": {},
   "cell_type": "markdown",
   "metadata": {},
   "source": [
    "# Q4"
   ]
  },
  {
   "cell_type": "code",
   "execution_count": 298,
   "metadata": {},
   "outputs": [],
   "source": [
    "PD1 = 0.1\n",
    "PD2 = 0.2"
   ]
  },
  {
   "cell_type": "code",
   "execution_count": 299,
   "metadata": {},
   "outputs": [],
   "source": [
    "# from \n",
    "mean = [5/8, 11/24]\n",
    "var = [13/192, 47/576]\n",
    "corr = (3/611)**(1/2)\n",
    "cov = 1/192\n",
    "cov_matrix = [[var[0], cov], [cov, var[1]]]"
   ]
  },
  {
   "cell_type": "code",
   "execution_count": 300,
   "metadata": {},
   "outputs": [
    {
     "data": {
      "text/plain": [
       "<matplotlib.collections.PathCollection at 0x28bdd0b50>"
      ]
     },
     "execution_count": 300,
     "metadata": {},
     "output_type": "execute_result"
    },
    {
     "data": {
      "image/png": "[encoded data removed]",
      "text/plain": [
       "<Figure size 640x480 with 1 Axes>"
      ]
     },
     "metadata": {},
     "output_type": "display_data"
    }
   ],
   "source": [
    "def Fxy(x,y):\n",
    "    return 1/4 * x * (2 + 3 * x - y) * y\n",
    "\n",
    "# Define the inverse marginal CDFs inv_Fx(u) and inv_Fy(v)\n",
    "def inv_Fx(x):\n",
    "    return 1/6 * (-1 + (1 + 48 * x)**(1/2))\n",
    "\n",
    "def inv_Fy(y):\n",
    "    return 1/2 * (5 - (25 - 16 * y)**(1/2))\n",
    "\n",
    "x = np.random.uniform(0, 1, size = 1000)\n",
    "y = np.random.uniform(0, 1, size = 1000)\n",
    "\n",
    "plt.scatter(x, inv_Fx(x), s=1)\n",
    "plt.scatter(y, inv_Fy(y), s=1)"
   ]
  },
  {
   "cell_type": "code",
   "execution_count": 304,
   "metadata": {},
   "outputs": [
    {
     "name": "stdout",
     "output_type": "stream",
     "text": [
      "PDJ is 0.025.\n"
     ]
    }
   ],
   "source": [
    "x = inv_Fx(0.1)\n",
    "y = inv_Fy(0.2)\n",
    "PDJ = Fxy(x,y)\n",
    "print(f'PDJ is {round(PDJ,3)}.')"
   ]
  },
  {
   "cell_type": "code",
   "execution_count": 305,
   "metadata": {},
   "outputs": [
    {
     "name": "stdout",
     "output_type": "stream",
     "text": [
      "Dcorr is 0.039.\n"
     ]
    }
   ],
   "source": [
    "Dcorr = (PDJ - PD1 * PD2)/(PD1*(1-PD1)*PD2*(1-PD2))**(1/2)\n",
    "print(f'Dcorr is {round(Dcorr,3)}.')"
   ]
  },
  {
   "cell_type": "code",
   "execution_count": 302,
   "metadata": {},
   "outputs": [
    {
     "name": "stdout",
     "output_type": "stream",
     "text": [
      "rho is 0.09.\n"
     ]
    }
   ],
   "source": [
    "def f(rho):\n",
    "    inv_pd1 = norm.ppf(PD1)\n",
    "    inv_pd2 = norm.ppf(PD2)\n",
    "    f = multivariate_normal(mean=[0, 0], cov=[[1, rho], [rho, 1]]).cdf([inv_pd2, inv_pd1]) - PDJ\n",
    "    return f\n",
    "\n",
    "rho = fsolve(f, 0)\n",
    "print(f'rho is {round(rho[0],3)}.')"
   ]
  }
 ],
 "metadata": {
  "kernelspec": {
   "display_name": "Python 3",
   "language": "python",
   "name": "python3"
  },
  "language_info": {
   "codemirror_mode": {
    "name": "ipython",
    "version": 3
   },
   "file_extension": ".py",
   "mimetype": "text/x-python",
   "name": "python",
   "nbconvert_exporter": "python",
   "pygments_lexer": "ipython3",
   "version": "3.9.6"
  },
  "orig_nbformat": 4
 },
 "nbformat": 4,
 "nbformat_minor": 2
}
